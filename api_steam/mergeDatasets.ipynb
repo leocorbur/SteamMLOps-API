{
 "cells": [
  {
   "cell_type": "code",
   "execution_count": 1,
   "metadata": {},
   "outputs": [],
   "source": [
    "import pandas as pd"
   ]
  },
  {
   "cell_type": "code",
   "execution_count": 2,
   "metadata": {},
   "outputs": [],
   "source": [
    "# We import the datasests \n",
    "dfPlay = pd.read_csv('../datasets/play_time.csv')\n",
    "dfGameGenre= pd.read_csv('../datasets/game_genres.csv')\n",
    "dfnameGame = pd.read_csv('../datasets/name_games.csv')\n",
    "dfGenre = pd.read_csv('../datasets/genres.csv')\n",
    "dfReviews = pd.read_csv('../datasets/reviews.csv')"
   ]
  },
  {
   "cell_type": "markdown",
   "metadata": {},
   "source": [
    "def PlayTimeGenre( genero : str ): Debe devolver año con mas horas jugadas para dicho género. </br>\n",
    "\n",
    "Ejemplo de retorno: \n",
    "- {\"Año de lanzamiento con más horas jugadas para Género X\" : 2013}"
   ]
  },
  {
   "cell_type": "code",
   "execution_count": 3,
   "metadata": {},
   "outputs": [
    {
     "name": "stdout",
     "output_type": "stream",
     "text": [
      "<class 'pandas.core.frame.DataFrame'>\n",
      "RangeIndex: 12342227 entries, 0 to 12342226\n",
      "Data columns (total 3 columns):\n",
      " #   Column            Dtype  \n",
      "---  ------            -----  \n",
      " 0   genre             object \n",
      " 1   playtime_forever  int64  \n",
      " 2   anio              float64\n",
      "dtypes: float64(1), int64(1), object(1)\n",
      "memory usage: 282.5+ MB\n"
     ]
    }
   ],
   "source": [
    "# Merging DataFrames to combine playtime data with id_game and id_genres\n",
    "\n",
    "playTimeGenre = pd.merge(dfPlay,dfnameGame, on='id_game', how='left')\n",
    "playTimeGenre = pd.merge(playTimeGenre,dfGameGenre, on='id_game', how='left')\n",
    "playTimeGenre = pd.merge(playTimeGenre, dfGenre, on='id_genre', how='left')\n",
    "\n",
    "# Selecting specific columns and preparing the final DataFrame for analysis.\n",
    "cols = ['genre', 'playtime_forever', 'anio']\n",
    "playTimeGenre = playTimeGenre[cols]\n",
    "\n",
    "playTimeGenre.info()"
   ]
  },
  {
   "cell_type": "code",
   "execution_count": 4,
   "metadata": {},
   "outputs": [
    {
     "name": "stdout",
     "output_type": "stream",
     "text": [
      "<class 'pandas.core.frame.DataFrame'>\n",
      "RangeIndex: 11483220 entries, 0 to 11483219\n",
      "Data columns (total 3 columns):\n",
      " #   Column            Dtype  \n",
      "---  ------            -----  \n",
      " 0   genre             object \n",
      " 1   playtime_forever  int64  \n",
      " 2   anio              float64\n",
      "dtypes: float64(1), int64(1), object(1)\n",
      "memory usage: 262.8+ MB\n"
     ]
    }
   ],
   "source": [
    "# Data Cleaning Operations:\n",
    "# Removing rows with missing values and resetting DataFrame index\n",
    "playTimeGenre.dropna(inplace=True)\n",
    "playTimeGenre.reset_index(drop=True, inplace=True)\n",
    "playTimeGenre.info()"
   ]
  },
  {
   "cell_type": "code",
   "execution_count": 5,
   "metadata": {},
   "outputs": [
    {
     "data": {
      "text/html": [
       "<div>\n",
       "<style scoped>\n",
       "    .dataframe tbody tr th:only-of-type {\n",
       "        vertical-align: middle;\n",
       "    }\n",
       "\n",
       "    .dataframe tbody tr th {\n",
       "        vertical-align: top;\n",
       "    }\n",
       "\n",
       "    .dataframe thead th {\n",
       "        text-align: right;\n",
       "    }\n",
       "</style>\n",
       "<table border=\"1\" class=\"dataframe\">\n",
       "  <thead>\n",
       "    <tr style=\"text-align: right;\">\n",
       "      <th></th>\n",
       "      <th>genre</th>\n",
       "      <th>playtime_forever</th>\n",
       "      <th>anio</th>\n",
       "    </tr>\n",
       "  </thead>\n",
       "  <tbody>\n",
       "    <tr>\n",
       "      <th>0</th>\n",
       "      <td>Action</td>\n",
       "      <td>6</td>\n",
       "      <td>2000.0</td>\n",
       "    </tr>\n",
       "    <tr>\n",
       "      <th>2</th>\n",
       "      <td>Action</td>\n",
       "      <td>7</td>\n",
       "      <td>2003.0</td>\n",
       "    </tr>\n",
       "    <tr>\n",
       "      <th>8</th>\n",
       "      <td>Action</td>\n",
       "      <td>4733</td>\n",
       "      <td>2010.0</td>\n",
       "    </tr>\n",
       "    <tr>\n",
       "      <th>9</th>\n",
       "      <td>Action</td>\n",
       "      <td>1853</td>\n",
       "      <td>2004.0</td>\n",
       "    </tr>\n",
       "    <tr>\n",
       "      <th>10</th>\n",
       "      <td>Action</td>\n",
       "      <td>333</td>\n",
       "      <td>2005.0</td>\n",
       "    </tr>\n",
       "    <tr>\n",
       "      <th>...</th>\n",
       "      <td>...</td>\n",
       "      <td>...</td>\n",
       "      <td>...</td>\n",
       "    </tr>\n",
       "    <tr>\n",
       "      <th>11483215</th>\n",
       "      <td>Free to Play</td>\n",
       "      <td>3</td>\n",
       "      <td>2015.0</td>\n",
       "    </tr>\n",
       "    <tr>\n",
       "      <th>11483216</th>\n",
       "      <td>Adventure</td>\n",
       "      <td>3</td>\n",
       "      <td>2015.0</td>\n",
       "    </tr>\n",
       "    <tr>\n",
       "      <th>11483217</th>\n",
       "      <td>Casual</td>\n",
       "      <td>4</td>\n",
       "      <td>2016.0</td>\n",
       "    </tr>\n",
       "    <tr>\n",
       "      <th>11483218</th>\n",
       "      <td>Indie</td>\n",
       "      <td>4</td>\n",
       "      <td>2016.0</td>\n",
       "    </tr>\n",
       "    <tr>\n",
       "      <th>11483219</th>\n",
       "      <td>Free to Play</td>\n",
       "      <td>4</td>\n",
       "      <td>2016.0</td>\n",
       "    </tr>\n",
       "  </tbody>\n",
       "</table>\n",
       "<p>6938760 rows × 3 columns</p>\n",
       "</div>"
      ],
      "text/plain": [
       "                 genre  playtime_forever    anio\n",
       "0               Action                 6  2000.0\n",
       "2               Action                 7  2003.0\n",
       "8               Action              4733  2010.0\n",
       "9               Action              1853  2004.0\n",
       "10              Action               333  2005.0\n",
       "...                ...               ...     ...\n",
       "11483215  Free to Play                 3  2015.0\n",
       "11483216     Adventure                 3  2015.0\n",
       "11483217        Casual                 4  2016.0\n",
       "11483218         Indie                 4  2016.0\n",
       "11483219  Free to Play                 4  2016.0\n",
       "\n",
       "[6938760 rows x 3 columns]"
      ]
     },
     "execution_count": 5,
     "metadata": {},
     "output_type": "execute_result"
    }
   ],
   "source": [
    "# Filtering Data:\n",
    "# Selecting rows where both 'playtime_forever' and 'anio' are non-zero.\n",
    "playTimeGenre = playTimeGenre[(playTimeGenre['playtime_forever'] != 0) &\n",
    "                              (playTimeGenre['anio'] != 0.0)]\n",
    "playTimeGenre"
   ]
  },
  {
   "cell_type": "code",
   "execution_count": 6,
   "metadata": {},
   "outputs": [
    {
     "data": {
      "text/html": [
       "<div>\n",
       "<style scoped>\n",
       "    .dataframe tbody tr th:only-of-type {\n",
       "        vertical-align: middle;\n",
       "    }\n",
       "\n",
       "    .dataframe tbody tr th {\n",
       "        vertical-align: top;\n",
       "    }\n",
       "\n",
       "    .dataframe thead th {\n",
       "        text-align: right;\n",
       "    }\n",
       "</style>\n",
       "<table border=\"1\" class=\"dataframe\">\n",
       "  <thead>\n",
       "    <tr style=\"text-align: right;\">\n",
       "      <th></th>\n",
       "      <th>genre</th>\n",
       "      <th>anio</th>\n",
       "      <th>playtime_forever</th>\n",
       "    </tr>\n",
       "  </thead>\n",
       "  <tbody>\n",
       "    <tr>\n",
       "      <th>0</th>\n",
       "      <td>1980s</td>\n",
       "      <td>2015</td>\n",
       "      <td>24057</td>\n",
       "    </tr>\n",
       "    <tr>\n",
       "      <th>1</th>\n",
       "      <td>1990's</td>\n",
       "      <td>2011</td>\n",
       "      <td>173548</td>\n",
       "    </tr>\n",
       "    <tr>\n",
       "      <th>2</th>\n",
       "      <td>1990's</td>\n",
       "      <td>2012</td>\n",
       "      <td>58466</td>\n",
       "    </tr>\n",
       "    <tr>\n",
       "      <th>3</th>\n",
       "      <td>2D</td>\n",
       "      <td>2012</td>\n",
       "      <td>168599</td>\n",
       "    </tr>\n",
       "    <tr>\n",
       "      <th>4</th>\n",
       "      <td>3D Platformer</td>\n",
       "      <td>2011</td>\n",
       "      <td>173548</td>\n",
       "    </tr>\n",
       "    <tr>\n",
       "      <th>...</th>\n",
       "      <td>...</td>\n",
       "      <td>...</td>\n",
       "      <td>...</td>\n",
       "    </tr>\n",
       "    <tr>\n",
       "      <th>530</th>\n",
       "      <td>Web Publishing</td>\n",
       "      <td>2015</td>\n",
       "      <td>348861</td>\n",
       "    </tr>\n",
       "    <tr>\n",
       "      <th>531</th>\n",
       "      <td>Web Publishing</td>\n",
       "      <td>2016</td>\n",
       "      <td>136</td>\n",
       "    </tr>\n",
       "    <tr>\n",
       "      <th>532</th>\n",
       "      <td>Web Publishing</td>\n",
       "      <td>2017</td>\n",
       "      <td>9713</td>\n",
       "    </tr>\n",
       "    <tr>\n",
       "      <th>533</th>\n",
       "      <td>Zombies</td>\n",
       "      <td>2015</td>\n",
       "      <td>2730</td>\n",
       "    </tr>\n",
       "    <tr>\n",
       "      <th>534</th>\n",
       "      <td>e-sports</td>\n",
       "      <td>2014</td>\n",
       "      <td>451933</td>\n",
       "    </tr>\n",
       "  </tbody>\n",
       "</table>\n",
       "<p>535 rows × 3 columns</p>\n",
       "</div>"
      ],
      "text/plain": [
       "              genre  anio  playtime_forever\n",
       "0             1980s  2015             24057\n",
       "1            1990's  2011            173548\n",
       "2            1990's  2012             58466\n",
       "3                2D  2012            168599\n",
       "4     3D Platformer  2011            173548\n",
       "..              ...   ...               ...\n",
       "530  Web Publishing  2015            348861\n",
       "531  Web Publishing  2016               136\n",
       "532  Web Publishing  2017              9713\n",
       "533         Zombies  2015              2730\n",
       "534        e-sports  2014            451933\n",
       "\n",
       "[535 rows x 3 columns]"
      ]
     },
     "execution_count": 6,
     "metadata": {},
     "output_type": "execute_result"
    }
   ],
   "source": [
    "# Grouping and Aggregating Data:\n",
    "# Grouping by 'genre' and 'anio', then calculating the total playtime for each genre and release year.\n",
    "\n",
    "playTimeGenre = playTimeGenre.groupby(['genre','anio'])['playtime_forever'].sum().reset_index()\n",
    "playTimeGenre['anio'] = playTimeGenre['anio'].astype(int)\n",
    "playTimeGenre"
   ]
  },
  {
   "cell_type": "code",
   "execution_count": 7,
   "metadata": {},
   "outputs": [
    {
     "data": {
      "text/html": [
       "<div>\n",
       "<style scoped>\n",
       "    .dataframe tbody tr th:only-of-type {\n",
       "        vertical-align: middle;\n",
       "    }\n",
       "\n",
       "    .dataframe tbody tr th {\n",
       "        vertical-align: top;\n",
       "    }\n",
       "\n",
       "    .dataframe thead th {\n",
       "        text-align: right;\n",
       "    }\n",
       "</style>\n",
       "<table border=\"1\" class=\"dataframe\">\n",
       "  <thead>\n",
       "    <tr style=\"text-align: right;\">\n",
       "      <th></th>\n",
       "      <th>genre</th>\n",
       "      <th>anio</th>\n",
       "      <th>playtime_forever</th>\n",
       "    </tr>\n",
       "  </thead>\n",
       "  <tbody>\n",
       "    <tr>\n",
       "      <th>0</th>\n",
       "      <td>1980s</td>\n",
       "      <td>2015</td>\n",
       "      <td>24057</td>\n",
       "    </tr>\n",
       "    <tr>\n",
       "      <th>1</th>\n",
       "      <td>1990's</td>\n",
       "      <td>2011</td>\n",
       "      <td>173548</td>\n",
       "    </tr>\n",
       "    <tr>\n",
       "      <th>3</th>\n",
       "      <td>2D</td>\n",
       "      <td>2012</td>\n",
       "      <td>168599</td>\n",
       "    </tr>\n",
       "    <tr>\n",
       "      <th>4</th>\n",
       "      <td>3D Platformer</td>\n",
       "      <td>2011</td>\n",
       "      <td>173548</td>\n",
       "    </tr>\n",
       "    <tr>\n",
       "      <th>31</th>\n",
       "      <td>Action</td>\n",
       "      <td>2012</td>\n",
       "      <td>1099231451</td>\n",
       "    </tr>\n",
       "    <tr>\n",
       "      <th>...</th>\n",
       "      <td>...</td>\n",
       "      <td>...</td>\n",
       "      <td>...</td>\n",
       "    </tr>\n",
       "    <tr>\n",
       "      <th>523</th>\n",
       "      <td>Violent</td>\n",
       "      <td>2015</td>\n",
       "      <td>1503</td>\n",
       "    </tr>\n",
       "    <tr>\n",
       "      <th>524</th>\n",
       "      <td>Walking Simulator</td>\n",
       "      <td>2015</td>\n",
       "      <td>2</td>\n",
       "    </tr>\n",
       "    <tr>\n",
       "      <th>527</th>\n",
       "      <td>Web Publishing</td>\n",
       "      <td>2012</td>\n",
       "      <td>1947406</td>\n",
       "    </tr>\n",
       "    <tr>\n",
       "      <th>533</th>\n",
       "      <td>Zombies</td>\n",
       "      <td>2015</td>\n",
       "      <td>2730</td>\n",
       "    </tr>\n",
       "    <tr>\n",
       "      <th>534</th>\n",
       "      <td>e-sports</td>\n",
       "      <td>2014</td>\n",
       "      <td>451933</td>\n",
       "    </tr>\n",
       "  </tbody>\n",
       "</table>\n",
       "<p>124 rows × 3 columns</p>\n",
       "</div>"
      ],
      "text/plain": [
       "                 genre  anio  playtime_forever\n",
       "0                1980s  2015             24057\n",
       "1               1990's  2011            173548\n",
       "3                   2D  2012            168599\n",
       "4        3D Platformer  2011            173548\n",
       "31              Action  2012        1099231451\n",
       "..                 ...   ...               ...\n",
       "523            Violent  2015              1503\n",
       "524  Walking Simulator  2015                 2\n",
       "527     Web Publishing  2012           1947406\n",
       "533            Zombies  2015              2730\n",
       "534           e-sports  2014            451933\n",
       "\n",
       "[124 rows x 3 columns]"
      ]
     },
     "execution_count": 7,
     "metadata": {},
     "output_type": "execute_result"
    }
   ],
   "source": [
    "# Identifying the index with the maximum playtime for each genre.\n",
    "idx = playTimeGenre.groupby('genre')['playtime_forever'].idxmax()\n",
    "\n",
    "# Selecting rows with maximum playtime for each genre using the identified indices.\n",
    "playTimeGenre = playTimeGenre.loc[idx]\n",
    "\n",
    "playTimeGenre"
   ]
  },
  {
   "cell_type": "code",
   "execution_count": 8,
   "metadata": {},
   "outputs": [
    {
     "data": {
      "text/html": [
       "<div>\n",
       "<style scoped>\n",
       "    .dataframe tbody tr th:only-of-type {\n",
       "        vertical-align: middle;\n",
       "    }\n",
       "\n",
       "    .dataframe tbody tr th {\n",
       "        vertical-align: top;\n",
       "    }\n",
       "\n",
       "    .dataframe thead th {\n",
       "        text-align: right;\n",
       "    }\n",
       "</style>\n",
       "<table border=\"1\" class=\"dataframe\">\n",
       "  <thead>\n",
       "    <tr style=\"text-align: right;\">\n",
       "      <th></th>\n",
       "      <th>genre</th>\n",
       "      <th>anio</th>\n",
       "      <th>playtime_forever</th>\n",
       "    </tr>\n",
       "  </thead>\n",
       "  <tbody>\n",
       "    <tr>\n",
       "      <th>534</th>\n",
       "      <td>e-sports</td>\n",
       "      <td>2014</td>\n",
       "      <td>451933</td>\n",
       "    </tr>\n",
       "  </tbody>\n",
       "</table>\n",
       "</div>"
      ],
      "text/plain": [
       "        genre  anio  playtime_forever\n",
       "534  e-sports  2014            451933"
      ]
     },
     "execution_count": 8,
     "metadata": {},
     "output_type": "execute_result"
    }
   ],
   "source": [
    "playTimeGenre[playTimeGenre['genre'] == 'e-sports']"
   ]
  },
  {
   "cell_type": "code",
   "execution_count": 9,
   "metadata": {},
   "outputs": [],
   "source": [
    "# Saving the DataFrame as a CSV file for consulting\n",
    "# playTimeGenre.to_csv('data_render/playTimeGenre.csv', index=False)"
   ]
  },
  {
   "cell_type": "markdown",
   "metadata": {},
   "source": [
    "def UserForGenre( genero : str ): Debe devolver el usuario que acumula más horas jugadas para el género dado y una lista de la acumulación de horas jugadas por año.</br>\n",
    "\n",
    "Ejemplo de retorno: \n",
    "- {\"Usuario con más horas jugadas para Género X\" : us213ndjss09sdf, \n",
    "- \"Horas jugadas\":[{Año: 2013, Horas: 203}, {Año: 2012, Horas: 100}, {Año: 2011, Horas: 23}]}"
   ]
  },
  {
   "cell_type": "code",
   "execution_count": 3,
   "metadata": {},
   "outputs": [],
   "source": [
    "# Merging DataFrames by 'id_game', 'id_game'and 'id_user'\n",
    "userGenre = pd.merge(dfPlay, dfGameGenre, on='id_game', how='left')\n",
    "userGenre = pd.merge(userGenre, dfGenre, on='id_genre', how='left')\n",
    "userGenre = pd.merge(userGenre,dfReviews, on='id_user', how='left')\n",
    "\n",
    "# Selecting specific columns for analysis\n",
    "cols = ['id_user','genre', 'year','playtime_forever']\n",
    "userGenre = userGenre[cols]"
   ]
  },
  {
   "cell_type": "code",
   "execution_count": 4,
   "metadata": {},
   "outputs": [],
   "source": [
    "# Dropping rows with missing values\n",
    "userGenre.dropna(inplace=True)\n",
    "\n",
    "# Removing rows where playtime is zero, ensuring clean and meaningful data for analysis.\n",
    "userGenre = userGenre[userGenre['playtime_forever'] != 0]"
   ]
  },
  {
   "cell_type": "code",
   "execution_count": 5,
   "metadata": {},
   "outputs": [],
   "source": [
    "userGenre['year'] = userGenre['year'].astype(int)\n",
    "userGenre.reset_index(drop=True, inplace=True)"
   ]
  },
  {
   "cell_type": "code",
   "execution_count": 6,
   "metadata": {},
   "outputs": [],
   "source": [
    "# Limiting the DataFrame to save space\n",
    "userGenre = userGenre.head(1450000)"
   ]
  },
  {
   "cell_type": "code",
   "execution_count": 7,
   "metadata": {},
   "outputs": [],
   "source": [
    "#Saving the DataFrame as a CSV file for consulting\n",
    "#userGenre.to_csv('data_render/userGenre.csv', index=False)"
   ]
  },
  {
   "cell_type": "markdown",
   "metadata": {},
   "source": [
    "def UsersRecommend( año : int ): Devuelve el top 3 de juegos MÁS recomendados por usuarios para el año dado. (reviews.recommend = True y comentarios positivos/neutrales) </br>\n",
    "\n",
    "Ejemplo de retorno:\n",
    " - [{\"Puesto 1\" : X}, {\"Puesto 2\" : Y},{\"Puesto 3\" : Z}]"
   ]
  },
  {
   "cell_type": "code",
   "execution_count": 8,
   "metadata": {},
   "outputs": [],
   "source": [
    "# Filter rows where 'recommend' is True and 'sentiment' is positive/neutral for the given year.\n",
    "usersRecommend = dfReviews[(dfReviews['recommend'] == True) &\n",
    "                              (dfReviews['sentiment'].isin(['Positive', 'Neutral']))]\n",
    "\n",
    "# Merge filtered data with additional game name information.\n",
    "usersRecommend = pd.merge(usersRecommend, dfnameGame, on='id_game', how='left')"
   ]
  },
  {
   "cell_type": "code",
   "execution_count": 9,
   "metadata": {},
   "outputs": [],
   "source": [
    "# Selecting specific columns for analysis and dropping rows\n",
    "cols = ['name_game', 'year']\n",
    "usersRecommend = usersRecommend[cols]\n",
    "usersRecommend.dropna(inplace=True)"
   ]
  },
  {
   "cell_type": "code",
   "execution_count": 10,
   "metadata": {},
   "outputs": [],
   "source": [
    "# Grouping by 'name_game' and 'year', counting recommendations for each game in the given year.\n",
    "top_games = usersRecommend.groupby(['name_game', 'year']).size().reset_index(name='recommend_count')"
   ]
  },
  {
   "cell_type": "code",
   "execution_count": 11,
   "metadata": {},
   "outputs": [],
   "source": [
    "# Saving the DataFrame as a CSV file for consulting\n",
    "top_games.to_csv('data_render/usersRecommend.csv', index=False)"
   ]
  },
  {
   "cell_type": "markdown",
   "metadata": {},
   "source": [
    "def UsersNotRecommend( año : int ): Devuelve el top 3 de juegos MENOS recomendados por usuarios para el año dado. (reviews.recommend = False y comentarios negativos) </br>\n",
    "\n",
    "Ejemplo de retorno: \n",
    "- [{\"Puesto 1\" : X}, {\"Puesto 2\" : Y},{\"Puesto 3\" : Z}]"
   ]
  },
  {
   "cell_type": "code",
   "execution_count": 12,
   "metadata": {},
   "outputs": [],
   "source": [
    "# Filter rows where 'recommend' is False and 'sentiment' is negative for the given year.\n",
    "usersNotRecommend = dfReviews[(dfReviews['recommend'] == False) &\n",
    "                              (dfReviews['sentiment'].isin(['Negative']))]\n",
    "\n",
    "usersNotRecommend = pd.merge(usersNotRecommend, dfnameGame, on='id_game', how='left')"
   ]
  },
  {
   "cell_type": "code",
   "execution_count": 13,
   "metadata": {},
   "outputs": [],
   "source": [
    "# Selecting specific columns for analysis and dropping rows\n",
    "cols = ['name_game', 'year']\n",
    "usersNotRecommend = usersNotRecommend[cols]\n",
    "usersNotRecommend.dropna(inplace=True)"
   ]
  },
  {
   "cell_type": "code",
   "execution_count": 14,
   "metadata": {},
   "outputs": [],
   "source": [
    "# Grouping by 'name_game' and 'year', counting the worst recommendations for each game in the given year.\n",
    "worst_games = usersNotRecommend.groupby(['name_game', 'year']).size().reset_index(name='recommend_count')"
   ]
  },
  {
   "cell_type": "code",
   "execution_count": 15,
   "metadata": {},
   "outputs": [],
   "source": [
    "# Saving the DataFrame as a CSV file for consulting\n",
    "#worst_games.to_csv('data_render/usersNotRecommend.csv', index=False)"
   ]
  },
  {
   "cell_type": "markdown",
   "metadata": {},
   "source": [
    "def sentiment_analysis( año : int ): Según el año de lanzamiento, se devuelve una lista con la cantidad de registros de reseñas de usuarios que se encuentren categorizados con un análisis de sentimiento.</br>\n",
    "\n",
    "Ejemplo de retorno: \n",
    "\n",
    "- {Negative = 182, Neutral = 120, Positive = 278}"
   ]
  },
  {
   "cell_type": "code",
   "execution_count": 16,
   "metadata": {},
   "outputs": [],
   "source": [
    "# Merging 'dfReviews' DataFrame with 'dfnameGame' DataFrame based on 'id_game' using a left join.\n",
    "sentAnalysis = pd.merge(dfReviews,dfnameGame, on='id_game', how ='left')\n",
    "\n",
    "# Selecting specific columns for sentiment analysis.\n",
    "# 'anio': release year\n",
    "cols = ['anio', 'sentiment']\n",
    "sentAnalysis = sentAnalysis[cols]"
   ]
  },
  {
   "cell_type": "code",
   "execution_count": 17,
   "metadata": {},
   "outputs": [],
   "source": [
    "sentAnalysis.dropna(inplace=True)\n",
    "sentAnalysis['anio'] = sentAnalysis['anio'].astype(int)\n",
    "\n",
    "# Renaming the 'anio' column to 'release year' for clarity.\n",
    "sentAnalysis.rename(columns={'anio':'release year'}, inplace=True)"
   ]
  },
  {
   "cell_type": "code",
   "execution_count": 18,
   "metadata": {},
   "outputs": [],
   "source": [
    "# Grouping 'sentAnalysis' DataFrame by 'release year' and 'sentiment', counting occurrences of each sentiment.\n",
    "sentAnalysis = sentAnalysis.groupby(['release year','sentiment']).size()\\\n",
    "    .reset_index(name='recount')"
   ]
  },
  {
   "cell_type": "code",
   "execution_count": 19,
   "metadata": {},
   "outputs": [],
   "source": [
    "# Saving the DataFrame as a CSV file for consulting\n",
    "#sentAnalysis.to_csv('data_render/sent_analysis.csv', index=False)"
   ]
  }
 ],
 "metadata": {
  "kernelspec": {
   "display_name": "Python 3",
   "language": "python",
   "name": "python3"
  },
  "language_info": {
   "codemirror_mode": {
    "name": "ipython",
    "version": 3
   },
   "file_extension": ".py",
   "mimetype": "text/x-python",
   "name": "python",
   "nbconvert_exporter": "python",
   "pygments_lexer": "ipython3",
   "version": "3.11.4"
  }
 },
 "nbformat": 4,
 "nbformat_minor": 2
}
